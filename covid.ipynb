{
  "nbformat": 4,
  "nbformat_minor": 0,
  "metadata": {
    "colab": {
      "provenance": []
    },
    "kernelspec": {
      "name": "python3",
      "display_name": "Python 3"
    },
    "language_info": {
      "name": "python"
    }
  },
  "cells": [
    {
      "cell_type": "code",
      "source": [
        "! pip install opendatasets"
      ],
      "metadata": {
        "colab": {
          "base_uri": "https://localhost:8080/"
        },
        "id": "IcnDil-lELk7",
        "outputId": "cc167eb2-0fc7-4e0a-c079-654da185868c"
      },
      "execution_count": 1,
      "outputs": [
        {
          "output_type": "stream",
          "name": "stdout",
          "text": [
            "Looking in indexes: https://pypi.org/simple, https://us-python.pkg.dev/colab-wheels/public/simple/\n",
            "Collecting opendatasets\n",
            "  Downloading opendatasets-0.1.22-py3-none-any.whl (15 kB)\n",
            "Requirement already satisfied: click in /usr/local/lib/python3.8/dist-packages (from opendatasets) (7.1.2)\n",
            "Requirement already satisfied: kaggle in /usr/local/lib/python3.8/dist-packages (from opendatasets) (1.5.12)\n",
            "Requirement already satisfied: tqdm in /usr/local/lib/python3.8/dist-packages (from opendatasets) (4.64.1)\n",
            "Requirement already satisfied: six>=1.10 in /usr/local/lib/python3.8/dist-packages (from kaggle->opendatasets) (1.15.0)\n",
            "Requirement already satisfied: python-dateutil in /usr/local/lib/python3.8/dist-packages (from kaggle->opendatasets) (2.8.2)\n",
            "Requirement already satisfied: python-slugify in /usr/local/lib/python3.8/dist-packages (from kaggle->opendatasets) (7.0.0)\n",
            "Requirement already satisfied: requests in /usr/local/lib/python3.8/dist-packages (from kaggle->opendatasets) (2.23.0)\n",
            "Requirement already satisfied: urllib3 in /usr/local/lib/python3.8/dist-packages (from kaggle->opendatasets) (1.24.3)\n",
            "Requirement already satisfied: certifi in /usr/local/lib/python3.8/dist-packages (from kaggle->opendatasets) (2022.9.24)\n",
            "Requirement already satisfied: text-unidecode>=1.3 in /usr/local/lib/python3.8/dist-packages (from python-slugify->kaggle->opendatasets) (1.3)\n",
            "Requirement already satisfied: chardet<4,>=3.0.2 in /usr/local/lib/python3.8/dist-packages (from requests->kaggle->opendatasets) (3.0.4)\n",
            "Requirement already satisfied: idna<3,>=2.5 in /usr/local/lib/python3.8/dist-packages (from requests->kaggle->opendatasets) (2.10)\n",
            "Installing collected packages: opendatasets\n",
            "Successfully installed opendatasets-0.1.22\n"
          ]
        }
      ]
    },
    {
      "cell_type": "code",
      "execution_count": 2,
      "metadata": {
        "id": "gw312wxMBd0B"
      },
      "outputs": [],
      "source": [
        "import opendatasets as od\n",
        "import pandas\n",
        "import numpy as np\n",
        "import os\n",
        "from pathlib import Path\n",
        "from keras.models import Sequential\n",
        "import keras\n",
        "from sklearn.model_selection import train_test_split"
      ]
    },
    {
      "cell_type": "code",
      "source": [
        "od.download(\"https://www.kaggle.com/datasets/pranavraikokte/covid19-image-dataset\")"
      ],
      "metadata": {
        "colab": {
          "base_uri": "https://localhost:8080/"
        },
        "id": "mxyOKTaHBhUS",
        "outputId": "51d93aee-1ba8-4fa8-8cb0-1710b11fcaec"
      },
      "execution_count": 3,
      "outputs": [
        {
          "output_type": "stream",
          "name": "stdout",
          "text": [
            "Please provide your Kaggle credentials to download this dataset. Learn more: http://bit.ly/kaggle-creds\n",
            "Your Kaggle username: moazgamal\n",
            "Your Kaggle Key: ··········\n",
            "Downloading covid19-image-dataset.zip to ./covid19-image-dataset\n"
          ]
        },
        {
          "output_type": "stream",
          "name": "stderr",
          "text": [
            "100%|██████████| 158M/158M [00:00<00:00, 214MB/s]\n"
          ]
        },
        {
          "output_type": "stream",
          "name": "stdout",
          "text": [
            "\n"
          ]
        }
      ]
    },
    {
      "cell_type": "code",
      "source": [
        "from PIL import Image\n",
        "import matplotlib.pyplot as plt\n",
        "covid_data = list()\n",
        "y_covid = list()\n",
        "y_norm = list()\n",
        "# iterate over files in\n",
        "# that directory\n",
        "files = Path('/content/covid19-image-dataset/Covid19-dataset/train/Covid').glob('*')\n",
        "for file in files:\n",
        "    im = Image.open(file).convert('LA')\n",
        "    # plt.figure()\n",
        "    \n",
        "    im = im.resize(size=(256,256))\n",
        "    # plt.imshow(im)\n",
        "    na = np.array(im)\n",
        "    print(na.shape)\n",
        "    covid_data.append(na.flatten())\n",
        "    y_covid.append(1)\n",
        "\n",
        "# covid_data = np.array(covid_data)\n",
        "\n",
        "\n",
        "norm_data = list()\n",
        " \n",
        "# iterate over files in\n",
        "# that directory\n",
        "files = Path('/content/covid19-image-dataset/Covid19-dataset/train/Normal').glob('*')\n",
        "for file in files:\n",
        "    im = Image.open(file).convert('LA')\n",
        "    # plt.figure()\n",
        "    \n",
        "    im = im.resize(size=(256,256))\n",
        "    # plt.imshow(im)\n",
        "    na = np.array(im)\n",
        "    print(na.shape)\n",
        "    norm_data.append(na.flatten())\n",
        "    y_norm.append(0)\n",
        "\n",
        "# norm_data = np.array(norm_data)\n"
      ],
      "metadata": {
        "id": "-k0Yu_f7B5co",
        "outputId": "22d17540-599f-438f-da95-df0eb7d7b3dc",
        "colab": {
          "base_uri": "https://localhost:8080/"
        }
      },
      "execution_count": 4,
      "outputs": [
        {
          "output_type": "stream",
          "name": "stdout",
          "text": [
            "(256, 256, 2)\n",
            "(256, 256, 2)\n",
            "(256, 256, 2)\n",
            "(256, 256, 2)\n",
            "(256, 256, 2)\n",
            "(256, 256, 2)\n",
            "(256, 256, 2)\n",
            "(256, 256, 2)\n",
            "(256, 256, 2)\n",
            "(256, 256, 2)\n",
            "(256, 256, 2)\n",
            "(256, 256, 2)\n",
            "(256, 256, 2)\n",
            "(256, 256, 2)\n",
            "(256, 256, 2)\n",
            "(256, 256, 2)\n",
            "(256, 256, 2)\n",
            "(256, 256, 2)\n",
            "(256, 256, 2)\n",
            "(256, 256, 2)\n",
            "(256, 256, 2)\n",
            "(256, 256, 2)\n",
            "(256, 256, 2)\n",
            "(256, 256, 2)\n",
            "(256, 256, 2)\n",
            "(256, 256, 2)\n",
            "(256, 256, 2)\n",
            "(256, 256, 2)\n",
            "(256, 256, 2)\n",
            "(256, 256, 2)\n",
            "(256, 256, 2)\n",
            "(256, 256, 2)\n",
            "(256, 256, 2)\n",
            "(256, 256, 2)\n",
            "(256, 256, 2)\n",
            "(256, 256, 2)\n",
            "(256, 256, 2)\n",
            "(256, 256, 2)\n",
            "(256, 256, 2)\n",
            "(256, 256, 2)\n",
            "(256, 256, 2)\n",
            "(256, 256, 2)\n",
            "(256, 256, 2)\n",
            "(256, 256, 2)\n",
            "(256, 256, 2)\n",
            "(256, 256, 2)\n",
            "(256, 256, 2)\n",
            "(256, 256, 2)\n",
            "(256, 256, 2)\n",
            "(256, 256, 2)\n",
            "(256, 256, 2)\n",
            "(256, 256, 2)\n",
            "(256, 256, 2)\n",
            "(256, 256, 2)\n",
            "(256, 256, 2)\n",
            "(256, 256, 2)\n",
            "(256, 256, 2)\n",
            "(256, 256, 2)\n",
            "(256, 256, 2)\n",
            "(256, 256, 2)\n",
            "(256, 256, 2)\n",
            "(256, 256, 2)\n",
            "(256, 256, 2)\n",
            "(256, 256, 2)\n",
            "(256, 256, 2)\n",
            "(256, 256, 2)\n",
            "(256, 256, 2)\n",
            "(256, 256, 2)\n",
            "(256, 256, 2)\n",
            "(256, 256, 2)\n",
            "(256, 256, 2)\n",
            "(256, 256, 2)\n",
            "(256, 256, 2)\n",
            "(256, 256, 2)\n",
            "(256, 256, 2)\n",
            "(256, 256, 2)\n",
            "(256, 256, 2)\n",
            "(256, 256, 2)\n",
            "(256, 256, 2)\n",
            "(256, 256, 2)\n",
            "(256, 256, 2)\n",
            "(256, 256, 2)\n",
            "(256, 256, 2)\n",
            "(256, 256, 2)\n",
            "(256, 256, 2)\n",
            "(256, 256, 2)\n",
            "(256, 256, 2)\n",
            "(256, 256, 2)\n",
            "(256, 256, 2)\n",
            "(256, 256, 2)\n",
            "(256, 256, 2)\n",
            "(256, 256, 2)\n",
            "(256, 256, 2)\n",
            "(256, 256, 2)\n",
            "(256, 256, 2)\n",
            "(256, 256, 2)\n",
            "(256, 256, 2)\n",
            "(256, 256, 2)\n",
            "(256, 256, 2)\n",
            "(256, 256, 2)\n",
            "(256, 256, 2)\n",
            "(256, 256, 2)\n",
            "(256, 256, 2)\n",
            "(256, 256, 2)\n",
            "(256, 256, 2)\n",
            "(256, 256, 2)\n",
            "(256, 256, 2)\n",
            "(256, 256, 2)\n",
            "(256, 256, 2)\n",
            "(256, 256, 2)\n",
            "(256, 256, 2)\n",
            "(256, 256, 2)\n",
            "(256, 256, 2)\n",
            "(256, 256, 2)\n",
            "(256, 256, 2)\n",
            "(256, 256, 2)\n",
            "(256, 256, 2)\n",
            "(256, 256, 2)\n",
            "(256, 256, 2)\n",
            "(256, 256, 2)\n",
            "(256, 256, 2)\n",
            "(256, 256, 2)\n",
            "(256, 256, 2)\n",
            "(256, 256, 2)\n",
            "(256, 256, 2)\n",
            "(256, 256, 2)\n",
            "(256, 256, 2)\n",
            "(256, 256, 2)\n",
            "(256, 256, 2)\n",
            "(256, 256, 2)\n",
            "(256, 256, 2)\n",
            "(256, 256, 2)\n",
            "(256, 256, 2)\n",
            "(256, 256, 2)\n",
            "(256, 256, 2)\n",
            "(256, 256, 2)\n",
            "(256, 256, 2)\n",
            "(256, 256, 2)\n",
            "(256, 256, 2)\n",
            "(256, 256, 2)\n",
            "(256, 256, 2)\n",
            "(256, 256, 2)\n",
            "(256, 256, 2)\n",
            "(256, 256, 2)\n",
            "(256, 256, 2)\n",
            "(256, 256, 2)\n",
            "(256, 256, 2)\n",
            "(256, 256, 2)\n",
            "(256, 256, 2)\n",
            "(256, 256, 2)\n",
            "(256, 256, 2)\n",
            "(256, 256, 2)\n",
            "(256, 256, 2)\n",
            "(256, 256, 2)\n",
            "(256, 256, 2)\n",
            "(256, 256, 2)\n",
            "(256, 256, 2)\n",
            "(256, 256, 2)\n",
            "(256, 256, 2)\n",
            "(256, 256, 2)\n",
            "(256, 256, 2)\n",
            "(256, 256, 2)\n",
            "(256, 256, 2)\n",
            "(256, 256, 2)\n",
            "(256, 256, 2)\n",
            "(256, 256, 2)\n",
            "(256, 256, 2)\n",
            "(256, 256, 2)\n",
            "(256, 256, 2)\n",
            "(256, 256, 2)\n",
            "(256, 256, 2)\n",
            "(256, 256, 2)\n",
            "(256, 256, 2)\n",
            "(256, 256, 2)\n",
            "(256, 256, 2)\n",
            "(256, 256, 2)\n",
            "(256, 256, 2)\n",
            "(256, 256, 2)\n",
            "(256, 256, 2)\n",
            "(256, 256, 2)\n",
            "(256, 256, 2)\n"
          ]
        }
      ]
    },
    {
      "cell_type": "code",
      "source": [
        "x = covid_data + norm_data\n",
        "y = y_covid + y_norm"
      ],
      "metadata": {
        "id": "tEpz91xB0F1J"
      },
      "execution_count": 5,
      "outputs": []
    },
    {
      "cell_type": "code",
      "source": [],
      "metadata": {
        "id": "_MQB8lQt0py4"
      },
      "execution_count": 5,
      "outputs": []
    },
    {
      "cell_type": "code",
      "source": [
        "# import random\n",
        "\n",
        "# temp = list(zip(x, y))\n",
        "# random.shuffle(temp)\n",
        "# x, y = zip(*temp)\n",
        "# # res1 and res2 come out as tuples, and so must be converted to lists.\n",
        "# x, y = list(x), list(y)\n",
        "\n",
        "x = np.array(x)\n",
        "y = np.array(y)\n",
        "x_train, x_test, y_train,y_test=train_test_split(x,y,test_size=0.2,random_state=45)"
      ],
      "metadata": {
        "id": "gmsfD6t2wxFB"
      },
      "execution_count": 6,
      "outputs": []
    },
    {
      "cell_type": "code",
      "source": [
        "model = Sequential()\n",
        "model.add(keras.layers.Dense(2,  activation='softmax',input_shape=(131072,)))"
      ],
      "metadata": {
        "id": "ZAkC0BkaGCht"
      },
      "execution_count": 7,
      "outputs": []
    },
    {
      "cell_type": "code",
      "source": [
        "model.compile(loss='sparse_categorical_crossentropy', optimizer='adam', metrics=['accuracy'])"
      ],
      "metadata": {
        "id": "Pl4uu8fA1ZIA"
      },
      "execution_count": 8,
      "outputs": []
    },
    {
      "cell_type": "code",
      "source": [
        "model.fit(x_train,y_train, epochs=50)"
      ],
      "metadata": {
        "colab": {
          "base_uri": "https://localhost:8080/"
        },
        "id": "3IeYU_yNB8yL",
        "outputId": "42843d57-4f76-4802-cabd-c11df6fac588"
      },
      "execution_count": 9,
      "outputs": [
        {
          "output_type": "stream",
          "name": "stdout",
          "text": [
            "Epoch 1/50\n",
            "5/5 [==============================] - 1s 33ms/step - loss: 14920.5918 - accuracy: 0.4931\n",
            "Epoch 2/50\n",
            "5/5 [==============================] - 0s 36ms/step - loss: 7359.0288 - accuracy: 0.4931\n",
            "Epoch 3/50\n",
            "5/5 [==============================] - 0s 34ms/step - loss: 3594.5029 - accuracy: 0.5208\n",
            "Epoch 4/50\n",
            "5/5 [==============================] - 0s 37ms/step - loss: 1288.6171 - accuracy: 0.7222\n",
            "Epoch 5/50\n",
            "5/5 [==============================] - 0s 34ms/step - loss: 616.0706 - accuracy: 0.8403\n",
            "Epoch 6/50\n",
            "5/5 [==============================] - 0s 40ms/step - loss: 853.9882 - accuracy: 0.8542\n",
            "Epoch 7/50\n",
            "5/5 [==============================] - 0s 33ms/step - loss: 779.5343 - accuracy: 0.8264\n",
            "Epoch 8/50\n",
            "5/5 [==============================] - 0s 37ms/step - loss: 629.6337 - accuracy: 0.8681\n",
            "Epoch 9/50\n",
            "5/5 [==============================] - 0s 30ms/step - loss: 330.7663 - accuracy: 0.9236\n",
            "Epoch 10/50\n",
            "5/5 [==============================] - 0s 36ms/step - loss: 333.9976 - accuracy: 0.9097\n",
            "Epoch 11/50\n",
            "5/5 [==============================] - 0s 31ms/step - loss: 341.0772 - accuracy: 0.9514\n",
            "Epoch 12/50\n",
            "5/5 [==============================] - 0s 33ms/step - loss: 218.0542 - accuracy: 0.9444\n",
            "Epoch 13/50\n",
            "5/5 [==============================] - 0s 33ms/step - loss: 156.7903 - accuracy: 0.9653\n",
            "Epoch 14/50\n",
            "5/5 [==============================] - 0s 34ms/step - loss: 165.6126 - accuracy: 0.9653\n",
            "Epoch 15/50\n",
            "5/5 [==============================] - 0s 33ms/step - loss: 150.0033 - accuracy: 0.9514\n",
            "Epoch 16/50\n",
            "5/5 [==============================] - 0s 36ms/step - loss: 109.6865 - accuracy: 0.9653\n",
            "Epoch 17/50\n",
            "5/5 [==============================] - 0s 34ms/step - loss: 138.8875 - accuracy: 0.9444\n",
            "Epoch 18/50\n",
            "5/5 [==============================] - 0s 34ms/step - loss: 170.0879 - accuracy: 0.9444\n",
            "Epoch 19/50\n",
            "5/5 [==============================] - 0s 35ms/step - loss: 151.6341 - accuracy: 0.9653\n",
            "Epoch 20/50\n",
            "5/5 [==============================] - 0s 34ms/step - loss: 36.7467 - accuracy: 0.9861\n",
            "Epoch 21/50\n",
            "5/5 [==============================] - 0s 35ms/step - loss: 112.9979 - accuracy: 0.9444\n",
            "Epoch 22/50\n",
            "5/5 [==============================] - 0s 34ms/step - loss: 126.4798 - accuracy: 0.9722\n",
            "Epoch 23/50\n",
            "5/5 [==============================] - 0s 33ms/step - loss: 44.4312 - accuracy: 0.9792\n",
            "Epoch 24/50\n",
            "5/5 [==============================] - 0s 32ms/step - loss: 43.4362 - accuracy: 0.9722\n",
            "Epoch 25/50\n",
            "5/5 [==============================] - 0s 32ms/step - loss: 41.1416 - accuracy: 0.9722\n",
            "Epoch 26/50\n",
            "5/5 [==============================] - 0s 32ms/step - loss: 34.8983 - accuracy: 0.9722\n",
            "Epoch 27/50\n",
            "5/5 [==============================] - 0s 35ms/step - loss: 55.7673 - accuracy: 0.9792\n",
            "Epoch 28/50\n",
            "5/5 [==============================] - 0s 31ms/step - loss: 19.1006 - accuracy: 0.9792\n",
            "Epoch 29/50\n",
            "5/5 [==============================] - 0s 37ms/step - loss: 24.2114 - accuracy: 0.9792\n",
            "Epoch 30/50\n",
            "5/5 [==============================] - 0s 31ms/step - loss: 3.9517 - accuracy: 0.9931\n",
            "Epoch 31/50\n",
            "5/5 [==============================] - 0s 36ms/step - loss: 33.9146 - accuracy: 0.9583\n",
            "Epoch 32/50\n",
            "5/5 [==============================] - 0s 31ms/step - loss: 70.0296 - accuracy: 0.9514\n",
            "Epoch 33/50\n",
            "5/5 [==============================] - 0s 36ms/step - loss: 46.9290 - accuracy: 0.9583\n",
            "Epoch 34/50\n",
            "5/5 [==============================] - 0s 31ms/step - loss: 66.7092 - accuracy: 0.9653\n",
            "Epoch 35/50\n",
            "5/5 [==============================] - 0s 35ms/step - loss: 1.8981 - accuracy: 0.9931\n",
            "Epoch 36/50\n",
            "5/5 [==============================] - 0s 33ms/step - loss: 0.6598 - accuracy: 0.9931\n",
            "Epoch 37/50\n",
            "5/5 [==============================] - 0s 31ms/step - loss: 10.6782 - accuracy: 0.9861\n",
            "Epoch 38/50\n",
            "5/5 [==============================] - 0s 35ms/step - loss: 10.2048 - accuracy: 0.9931\n",
            "Epoch 39/50\n",
            "5/5 [==============================] - 0s 33ms/step - loss: 0.0000e+00 - accuracy: 1.0000\n",
            "Epoch 40/50\n",
            "5/5 [==============================] - 0s 33ms/step - loss: 4.3640 - accuracy: 0.9931\n",
            "Epoch 41/50\n",
            "5/5 [==============================] - 0s 30ms/step - loss: 0.0000e+00 - accuracy: 1.0000\n",
            "Epoch 42/50\n",
            "5/5 [==============================] - 0s 30ms/step - loss: 0.0000e+00 - accuracy: 1.0000\n",
            "Epoch 43/50\n",
            "5/5 [==============================] - 0s 35ms/step - loss: 0.0000e+00 - accuracy: 1.0000\n",
            "Epoch 44/50\n",
            "5/5 [==============================] - 0s 31ms/step - loss: 0.0000e+00 - accuracy: 1.0000\n",
            "Epoch 45/50\n",
            "5/5 [==============================] - 0s 33ms/step - loss: 0.4765 - accuracy: 0.9931\n",
            "Epoch 46/50\n",
            "5/5 [==============================] - 0s 31ms/step - loss: 0.0000e+00 - accuracy: 1.0000\n",
            "Epoch 47/50\n",
            "5/5 [==============================] - 0s 36ms/step - loss: 20.0738 - accuracy: 0.9792\n",
            "Epoch 48/50\n",
            "5/5 [==============================] - 0s 31ms/step - loss: 19.4812 - accuracy: 0.9792\n",
            "Epoch 49/50\n",
            "5/5 [==============================] - 0s 31ms/step - loss: 0.0000e+00 - accuracy: 1.0000\n",
            "Epoch 50/50\n",
            "5/5 [==============================] - 0s 33ms/step - loss: 6.6590 - accuracy: 0.9861\n"
          ]
        },
        {
          "output_type": "execute_result",
          "data": {
            "text/plain": [
              "<keras.callbacks.History at 0x7f1d32b9d250>"
            ]
          },
          "metadata": {},
          "execution_count": 9
        }
      ]
    },
    {
      "cell_type": "code",
      "source": [
        "pred = model.predict(x_test)"
      ],
      "metadata": {
        "id": "jzyWsyVzB_ot",
        "colab": {
          "base_uri": "https://localhost:8080/"
        },
        "outputId": "1ef71d6e-5ae2-4d02-b5b6-07d77789b2bf"
      },
      "execution_count": 10,
      "outputs": [
        {
          "output_type": "stream",
          "name": "stdout",
          "text": [
            "2/2 [==============================] - 0s 8ms/step\n"
          ]
        }
      ]
    },
    {
      "cell_type": "code",
      "source": [
        "pred"
      ],
      "metadata": {
        "colab": {
          "base_uri": "https://localhost:8080/"
        },
        "id": "Ewnll9JmABwH",
        "outputId": "8c06a425-97c0-4487-a4f8-2b29187a31a1"
      },
      "execution_count": 11,
      "outputs": [
        {
          "output_type": "execute_result",
          "data": {
            "text/plain": [
              "array([[0.99999994, 0.        ],\n",
              "       [0.        , 0.99999994],\n",
              "       [0.        , 0.99999994],\n",
              "       [0.        , 0.99999994],\n",
              "       [0.99999994, 0.        ],\n",
              "       [0.        , 0.99999994],\n",
              "       [0.        , 0.99999994],\n",
              "       [0.        , 0.99999994],\n",
              "       [0.        , 0.99999994],\n",
              "       [0.99999994, 0.        ],\n",
              "       [0.99999994, 0.        ],\n",
              "       [0.99999994, 0.        ],\n",
              "       [0.99999994, 0.        ],\n",
              "       [0.        , 0.99999994],\n",
              "       [0.        , 0.99999994],\n",
              "       [0.99999994, 0.        ],\n",
              "       [0.99999994, 0.        ],\n",
              "       [0.99999994, 0.        ],\n",
              "       [0.99999994, 0.        ],\n",
              "       [0.        , 0.99999994],\n",
              "       [0.99999994, 0.        ],\n",
              "       [0.99999994, 0.        ],\n",
              "       [0.        , 0.99999994],\n",
              "       [0.99999994, 0.        ],\n",
              "       [0.        , 0.99999994],\n",
              "       [0.99999994, 0.        ],\n",
              "       [0.99999994, 0.        ],\n",
              "       [0.99999994, 0.        ],\n",
              "       [0.        , 0.99999994],\n",
              "       [0.99999994, 0.        ],\n",
              "       [0.99999994, 0.        ],\n",
              "       [0.        , 0.99999994],\n",
              "       [1.        , 0.        ],\n",
              "       [1.        , 0.        ],\n",
              "       [0.        , 1.        ],\n",
              "       [0.        , 1.        ],\n",
              "       [1.        , 0.        ]], dtype=float32)"
            ]
          },
          "metadata": {},
          "execution_count": 11
        }
      ]
    },
    {
      "cell_type": "code",
      "source": [
        "for i in range (36):\n",
        "  print(np.argmax(pred[i])==y_test[i])\n",
        "\n"
      ],
      "metadata": {
        "colab": {
          "base_uri": "https://localhost:8080/"
        },
        "id": "tZzSflQr9-jZ",
        "outputId": "1919f9cd-14a2-4b56-83f0-858becb9a3b2"
      },
      "execution_count": 12,
      "outputs": [
        {
          "output_type": "stream",
          "name": "stdout",
          "text": [
            "True\n",
            "True\n",
            "True\n",
            "True\n",
            "True\n",
            "True\n",
            "True\n",
            "True\n",
            "True\n",
            "True\n",
            "True\n",
            "True\n",
            "True\n",
            "True\n",
            "True\n",
            "True\n",
            "False\n",
            "True\n",
            "True\n",
            "True\n",
            "True\n",
            "True\n",
            "True\n",
            "True\n",
            "True\n",
            "True\n",
            "True\n",
            "True\n",
            "True\n",
            "True\n",
            "True\n",
            "True\n",
            "True\n",
            "False\n",
            "True\n",
            "True\n"
          ]
        }
      ]
    }
  ]
}